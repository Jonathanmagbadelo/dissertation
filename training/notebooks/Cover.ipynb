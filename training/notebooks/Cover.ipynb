{
 "cells": [
  {
   "cell_type": "markdown",
   "metadata": {},
   "source": [
    "# Train Cover Model"
   ]
  },
  {
   "cell_type": "markdown",
   "metadata": {},
   "source": [
    "## Set up Spark "
   ]
  },
  {
   "cell_type": "code",
   "execution_count": 1,
   "metadata": {},
   "outputs": [],
   "source": [
    "import os\n",
    "from pyspark.sql import SparkSession\n",
    "from pyspark import SparkContext\n",
    "\n",
    "os.environ['PYSPARK_PYTHON'] = '/usr/bin/python3'\n",
    "os.environ['PYSPARK_DRIVER_PYTHON'] = '/usr/bin/python3'\n",
    "os.environ['PYTHONPATH'] = '$PYTHONPATH:/opt/training'\n",
    "os.chdir('/opt/training')\n",
    "\n",
    "spark_session = SparkSession\\\n",
    "    .builder\\\n",
    "    .appName(\"Cover\")\\\n",
    "    .getOrCreate()\n",
    "\n",
    "spark_session.sparkContext.addPyFile(\"/opt/training/src/modelling/Cover.py\")\n",
    "spark_session.sparkContext.addPyFile(\"/opt/training/src/processing/utils.py\")"
   ]
  },
  {
   "cell_type": "markdown",
   "metadata": {},
   "source": [
    "## Set up Cover"
   ]
  },
  {
   "cell_type": "code",
   "execution_count": 3,
   "metadata": {},
   "outputs": [],
   "source": [
    "from src.modelling import Cover\n",
    "from src.processing import utils\n",
    "filename = '/opt/training/data/raw/billboard_lyrics_1964-2015.csv'\n",
    "column_name = 'lyrics'\n",
    "cover = Cover.Cover(spark_session=spark_session, embedding_size=300)"
   ]
  },
  {
   "cell_type": "markdown",
   "metadata": {},
   "source": [
    "## Training"
   ]
  },
  {
   "cell_type": "code",
   "execution_count": 4,
   "metadata": {},
   "outputs": [
    {
     "name": "stdout",
     "output_type": "stream",
     "text": [
      "Corpus has 5100 documents\n",
      "+----+--------------------+--------------------+----+--------------------+------+\n",
      "|Rank|                Song|              Artist|Year|              Lyrics|Source|\n",
      "+----+--------------------+--------------------+----+--------------------+------+\n",
      "|   1|         wooly bully|sam the sham and ...|1965|sam the sham misc...|     3|\n",
      "|   2|i cant help mysel...|           four tops|1965| sugar pie honey ...|     1|\n",
      "|   3|i cant get no sat...|  the rolling stones|1965|                    |     1|\n",
      "|   4| you were on my mind|             we five|1965| when i woke up t...|     1|\n",
      "|   5|youve lost that l...|the righteous bro...|1965| you never close ...|     1|\n",
      "|   6|            downtown|        petula clark|1965| when youre alone...|     1|\n",
      "|   7|                help|         the beatles|1965|help i need someb...|     3|\n",
      "|   8|cant you hear my ...|     hermans hermits|1965|carterlewis every...|     5|\n",
      "|   9|crying in the chapel|       elvis presley|1965| you saw me cryin...|     1|\n",
      "|  10|             my girl|     the temptations|1965|ive got sunshine ...|     3|\n",
      "+----+--------------------+--------------------+----+--------------------+------+\n",
      "only showing top 10 rows\n",
      "\n",
      "+----+-----+-----+\n",
      "|word|count|   id|\n",
      "+----+-----+-----+\n",
      "| you|64606|42180|\n",
      "|   i|56466|42179|\n",
      "| the|53451|42178|\n",
      "|  to|35752|42177|\n",
      "| and|32555|42176|\n",
      "|  me|31170|42175|\n",
      "|   a|29282|42174|\n",
      "|  it|25688|42173|\n",
      "|  my|22821|42172|\n",
      "|  in|18553|42171|\n",
      "|that|16151|42170|\n",
      "|  on|15814|42169|\n",
      "|your|15459|42168|\n",
      "|love|15283|42167|\n",
      "|  im|14278|42166|\n",
      "|  be|13004|42165|\n",
      "|  of|12825|42164|\n",
      "| all|11895|42163|\n",
      "|dont|11587|42162|\n",
      "|know|11166|42161|\n",
      "+----+-----+-----+\n",
      "only showing top 20 rows\n",
      "\n",
      "There are 42181 unique tokens\n",
      "Mapped tokens to unique id\n",
      "+--------------------+\n",
      "|              matrix|\n",
      "+--------------------+\n",
      "|[[42176, 38148] -...|\n",
      "|[[42179, 41576] -...|\n",
      "|[[42143, 42143] -...|\n",
      "|[[41987, 42146] -...|\n",
      "|[[42180, 42037] -...|\n",
      "|[[42144, 42180] -...|\n",
      "|[[42159, 42084] -...|\n",
      "|[[42068, 42180] -...|\n",
      "|[[42145, 42176] -...|\n",
      "|[[41743, 42175] -...|\n",
      "+--------------------+\n",
      "only showing top 10 rows\n",
      "\n",
      "There are 920610 ij pairs\n",
      "+--------------+------------------+\n",
      "|           key|             value|\n",
      "+--------------+------------------+\n",
      "|[42046, 41733]| 1.033333346247673|\n",
      "|[42147, 41812]|219.49999983608723|\n",
      "|[42177, 41987]|144.13333386182785|\n",
      "|[42052, 41988]|              1.25|\n",
      "|[42174, 42037]| 26.13333359360695|\n",
      "|[42178, 42157]| 899.5333331972361|\n",
      "|[42093, 41901]|0.9500000029802322|\n",
      "|[42177, 40472]| 1.783333346247673|\n",
      "|[42134, 41910]| 3.066666692495346|\n",
      "|[41806, 42025]|0.6000000089406967|\n",
      "|[41872, 42159]|10.416666701436043|\n",
      "|[37082, 42139]|0.3333333432674408|\n",
      "|[42098, 42179]|147.05000123381615|\n",
      "|[41669, 41945]| 96.45000018179417|\n",
      "|[41999, 42178]| 78.88333344459534|\n",
      "|[34646, 42016]|               2.0|\n",
      "|[38951, 42164]|               4.0|\n",
      "|[42172, 41929]|29.133333429694176|\n",
      "|[42141, 42161]| 55.36666685342789|\n",
      "|[42176, 41193]| 9.166666686534882|\n",
      "+--------------+------------------+\n",
      "only showing top 20 rows\n",
      "\n",
      "920610\n",
      "Time taken is 51.215380907058716\n"
     ]
    }
   ],
   "source": [
    "import time\n",
    "\n",
    "start_time = time.time()\n",
    "cover.import_data(filename)\n",
    "cover.fit_transform(column_name=column_name, min_occurrence_count=5, window_size=5)\n",
    "cover.build_co_occurrence_matrix()\n",
    "end_time = time.time()\n",
    "\n",
    "print(\"Time taken is {}\".format(end_time-start_time))"
   ]
  },
  {
   "cell_type": "code",
   "execution_count": null,
   "metadata": {},
   "outputs": [],
   "source": [
    "from pyspark.sql.types import MapType, StringType, IntegerType, StructType, StructField, ArrayType\n",
    "from pyspark.sql.functions import col, explode, sum as sum_ \n",
    "\n",
    "df = spark_session.createDataFrame([{(1, 3): 1, (2 , 2): 2}, {(1, 2): 1}], MapType(ArrayType(IntegerType()), IntegerType())).toDF(\"age\")\n",
    "\n",
    "df.show()\n",
    "\n",
    "t = df.select(explode(col(\"age\"))).groupBy(col(\"key\")).agg(sum_(\"value\").alias(\"value\"))\n",
    "\n",
    "t.show()\n",
    "\n",
    "x = t.select(\"value\", \"key\").rdd.map(lambda x: (x.key, x.value)).collect()\n",
    "\n",
    "x = zip(*x)\n",
    "\n",
    "index, value = x\n",
    "\n",
    "print(index)\n",
    "\n",
    "print(value)\n",
    "\n",
    "\n",
    "\n"
   ]
  },
  {
   "cell_type": "code",
   "execution_count": null,
   "metadata": {},
   "outputs": [],
   "source": []
  },
  {
   "cell_type": "code",
   "execution_count": null,
   "metadata": {},
   "outputs": [],
   "source": []
  }
 ],
 "metadata": {
  "kernelspec": {
   "display_name": "Python 3",
   "language": "python",
   "name": "python3"
  },
  "language_info": {
   "codemirror_mode": {
    "name": "ipython",
    "version": 3
   },
   "file_extension": ".py",
   "mimetype": "text/x-python",
   "name": "python",
   "nbconvert_exporter": "python",
   "pygments_lexer": "ipython3",
   "version": "3.5.2"
  }
 },
 "nbformat": 4,
 "nbformat_minor": 2
}
