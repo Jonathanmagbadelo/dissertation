{
 "cells": [
  {
   "cell_type": "markdown",
   "metadata": {},
   "source": [
    "# Train Cover Model"
   ]
  },
  {
   "cell_type": "markdown",
   "metadata": {},
   "source": [
    "## Set up Spark "
   ]
  },
  {
   "cell_type": "code",
   "execution_count": 1,
   "metadata": {},
   "outputs": [],
   "source": [
    "import os\n",
    "from pyspark.sql import SparkSession\n",
    "from pyspark import SparkContext\n",
    "\n",
    "os.environ['PYSPARK_PYTHON'] = '/usr/bin/python3'\n",
    "os.environ['PYSPARK_DRIVER_PYTHON'] = '/usr/bin/python3'\n",
    "os.environ['PYTHONPATH'] = '$PYTHONPATH:/opt/training'\n",
    "os.chdir('/opt/training')\n",
    "\n",
    "spark_session = SparkSession\\\n",
    "    .builder\\\n",
    "    .appName(\"Cover\")\\\n",
    "    .getOrCreate()\n",
    "\n",
    "spark_session.sparkContext.addPyFile(\"/opt/training/src/modelling/Cover.py\")\n",
    "spark_session.sparkContext.addPyFile(\"/opt/training/src/processing/utils.py\")"
   ]
  },
  {
   "cell_type": "markdown",
   "metadata": {},
   "source": [
    "## Set up Cover"
   ]
  },
  {
   "cell_type": "code",
   "execution_count": 2,
   "metadata": {},
   "outputs": [],
   "source": [
    "from src.modelling import Cover\n",
    "from src.processing import utils\n",
    "filename = '/opt/training/data/raw/lyrics.csv'\n",
    "column_name = 'Lyrics'\n",
    "cover = Cover.Cover(spark_session=spark_session)"
   ]
  },
  {
   "cell_type": "markdown",
   "metadata": {},
   "source": [
    "## Training"
   ]
  },
  {
   "cell_type": "code",
   "execution_count": 3,
   "metadata": {},
   "outputs": [
    {
     "name": "stdout",
     "output_type": "stream",
     "text": [
      "Corpus has 368259 documents\n",
      "+----+-----+-----+\n",
      "|word|count|   id|\n",
      "+----+-----+-----+\n",
      "| the|77848|75400|\n",
      "|   i|65663|75399|\n",
      "| you|54140|75398|\n",
      "|   a|44477|75397|\n",
      "|  to|36266|75396|\n",
      "|  in|28737|75395|\n",
      "| and|27199|75394|\n",
      "|  me|25524|75393|\n",
      "|  my|25305|75392|\n",
      "|  of|24070|75391|\n",
      "|  on|16356|75390|\n",
      "|    |16267|75389|\n",
      "|your|16192|75388|\n",
      "|  it|15838|75387|\n",
      "|  is|15529|75386|\n",
      "|  im|13709|75385|\n",
      "|that|12413|75384|\n",
      "|this|11821|75383|\n",
      "| all|11262|75382|\n",
      "| for|11151|75381|\n",
      "+----+-----+-----+\n",
      "only showing top 20 rows\n",
      "\n",
      "There are 75400 unique tokens\n",
      "Mapped tokens to unique id\n",
      "+--------------------+\n",
      "|              matrix|\n",
      "+--------------------+\n",
      "|[[75321, 75398] -...|\n",
      "|[[75210, 75040] -...|\n",
      "|[[75355, 75398] -...|\n",
      "|[[75399, 75363] -...|\n",
      "|[[75400, 74992] -...|\n",
      "|[[75399, 75163] -...|\n",
      "|[[75334, 75399] -...|\n",
      "|[[75133, 75133] -...|\n",
      "|[[75310, 75303] -...|\n",
      "|                  []|\n",
      "+--------------------+\n",
      "only showing top 10 rows\n",
      "\n",
      "There are 1109264 ij pairs\n",
      "+--------------+-------------------+\n",
      "|           key|         sum(value)|\n",
      "+--------------+-------------------+\n",
      "|[75398, 74193]|  14.83333334326744|\n",
      "|[75252, 75400]|  90.15000076591969|\n",
      "|[75229, 75334]| 29.366666808724403|\n",
      "|[75371, 75398]|    950.93333722651|\n",
      "|[75392, 74876]|  91.56666679680347|\n",
      "|[75384, 70698]|                3.0|\n",
      "|[75311, 75392]| 28.666666850447655|\n",
      "|[75179, 75372]| 121.73333376646042|\n",
      "|[75346, 75044]|   6.35000005364418|\n",
      "|[75242, 75253]|  0.533333346247673|\n",
      "|[74535, 68518]|                1.5|\n",
      "|[74251, 74795]| 0.3333333432674408|\n",
      "|[75384, 72175]|                0.5|\n",
      "|[72175, 75373]| 2.4500000029802322|\n",
      "|[71769, 75159]|0.20000000298023224|\n",
      "|[75400, 74744]|   88.1000003516674|\n",
      "|[74473, 75146]|  6.566666692495346|\n",
      "|[75270, 75393]|  202.0333340317011|\n",
      "|[75054, 75391]| 184.01666674017906|\n",
      "|[75357, 74943]| 23.099999949336052|\n",
      "+--------------+-------------------+\n",
      "only showing top 20 rows\n",
      "\n",
      "Time taken is 104.09933257102966\n"
     ]
    }
   ],
   "source": [
    "import time\n",
    "\n",
    "start_time = time.time()\n",
    "cover.import_data(filename)\n",
    "cover.fit_transform(column_name=column_name, min_occurrence_count=5, window_size=5)\n",
    "end_time = time.time()\n",
    "\n",
    "print(\"Time taken is {}\".format(end_time-start_time))"
   ]
  },
  {
   "cell_type": "code",
   "execution_count": 13,
   "metadata": {},
   "outputs": [
    {
     "name": "stdout",
     "output_type": "stream",
     "text": [
      "+--------------------+\n",
      "|                 age|\n",
      "+--------------------+\n",
      "|[[1, 2] -> 1, [2,...|\n",
      "|       [[1, 2] -> 1]|\n",
      "+--------------------+\n",
      "\n",
      "+------+----------+\n",
      "|   key|sum(value)|\n",
      "+------+----------+\n",
      "|[2, 2]|         2|\n",
      "|[1, 2]|         2|\n",
      "+------+----------+\n",
      "\n"
     ]
    }
   ],
   "source": [
    "from pyspark.sql.types import MapType, StringType, IntegerType, StructType, StructField, ArrayType\n",
    "from pyspark.sql.functions import col, explode, sum as sum_ \n",
    "\n",
    "schema = StructType([\n",
    "    StructField(\"left_context_id\", IntegerType(), False),\n",
    "    StructField(\"right_context_id\", IntegerType(), False)\n",
    "])\n",
    "\n",
    "df = spark_session.createDataFrame([{(1, 2): 1, (2 , 2): 2}, {(1, 2): 1}], MapType(schema, IntegerType())).toDF(\"age\")\n",
    "\n",
    "df.show()\n",
    "\n",
    "t = df.select(explode(col(\"age\"))).groupBy(col(\"key\")).agg(sum_(\"value\"))\n",
    "\n",
    "t.show()\n"
   ]
  },
  {
   "cell_type": "code",
   "execution_count": null,
   "metadata": {},
   "outputs": [],
   "source": []
  }
 ],
 "metadata": {
  "kernelspec": {
   "display_name": "Python 3",
   "language": "python",
   "name": "python3"
  },
  "language_info": {
   "codemirror_mode": {
    "name": "ipython",
    "version": 3
   },
   "file_extension": ".py",
   "mimetype": "text/x-python",
   "name": "python",
   "nbconvert_exporter": "python",
   "pygments_lexer": "ipython3",
   "version": "3.5.2"
  }
 },
 "nbformat": 4,
 "nbformat_minor": 2
}
