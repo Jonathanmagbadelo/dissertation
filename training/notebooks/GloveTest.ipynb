{
 "cells": [
  {
   "cell_type": "code",
   "execution_count": 1,
   "metadata": {},
   "outputs": [],
   "source": [
    "from string import punctuation\n",
    "from gensim import corpora\n",
    "\n",
    "\n",
    "def build_vocab(lyrics):\n",
    "    tokenised_lyrics = [lyric.lower().strip(punctuation).split(' ') for lyric in lyrics]\n",
    "    dictionary = corpora.Dictionary(tokenised_lyrics)\n",
    "    return dictionary.token2id, tokenised_lyrics"
   ]
  },
  {
   "cell_type": "code",
   "execution_count": 3,
   "metadata": {},
   "outputs": [],
   "source": [
    "lyrics = [\"Hi my name is slim-shady!\", \"one day I went to lidl!\", \"one day I'm gonna be free from a name.\"]\n",
    "vocab, tokenised_lyrics = build_vocab(lyrics)\n"
   ]
  },
  {
   "cell_type": "code",
   "execution_count": 5,
   "metadata": {},
   "outputs": [
    {
     "data": {
      "text/plain": [
       "2"
      ]
     },
     "execution_count": 5,
     "metadata": {},
     "output_type": "execute_result"
    }
   ],
   "source": []
  },
  {
   "cell_type": "code",
   "execution_count": null,
   "metadata": {},
   "outputs": [],
   "source": []
  }
 ],
 "metadata": {
  "kernelspec": {
   "display_name": "Python 3",
   "language": "python",
   "name": "python3"
  },
  "language_info": {
   "codemirror_mode": {
    "name": "ipython",
    "version": 3
   },
   "file_extension": ".py",
   "mimetype": "text/x-python",
   "name": "python",
   "nbconvert_exporter": "python",
   "pygments_lexer": "ipython3",
   "version": "3.5.2"
  }
 },
 "nbformat": 4,
 "nbformat_minor": 2
}
