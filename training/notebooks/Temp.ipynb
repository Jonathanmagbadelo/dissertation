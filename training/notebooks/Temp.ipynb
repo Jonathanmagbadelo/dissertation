{
 "cells": [
  {
   "cell_type": "code",
   "execution_count": 44,
   "metadata": {},
   "outputs": [],
   "source": [
    "import logging\n",
    "import re\n",
    "from collections import Counter\n",
    "\n",
    "class WordIndexer:\n",
    "    \"\"\"Transform g a dataset of text to a list of index of words. Not memory \n",
    "    optimized for big datasets\"\"\"\n",
    "\n",
    "    def __init__(self, min_word_occurences=5, right_window=1, oov_word=\"OOV\"):\n",
    "        self.oov_word = oov_word\n",
    "        self.right_window = right_window\n",
    "        self.min_word_occurences = min_word_occurences\n",
    "        self.word_to_index = {oov_word: 0}\n",
    "        self.index_to_word = [oov_word]\n",
    "        self.word_occurrences = {}\n",
    "        self.re_words = re.compile(r\"\\b[a-zA-Z]{2,}\\b\")\n",
    "\n",
    "    def _get_or_set_word_to_index(self, word):\n",
    "        try:\n",
    "            return self.word_to_index[word]\n",
    "        except KeyError:\n",
    "            idx = len(self.word_to_index)\n",
    "            self.word_to_index[word] = idx\n",
    "            self.index_to_word.append(word)\n",
    "            return idx\n",
    "\n",
    "    @property\n",
    "    def n_words(self):\n",
    "        return len(self.word_to_index)\n",
    "\n",
    "    def fit_transform(self, texts):\n",
    "        l_words = [list(self.re_words.findall(sentence.lower())) for sentence in texts]\n",
    "        word_occurrences = Counter(word for words in l_words for word in words)\n",
    "\n",
    "        self.word_occurrences = {\n",
    "            word: n_occurences\n",
    "            for word, n_occurences in word_occurrences.items()\n",
    "            if n_occurences >= self.min_word_occurences}\n",
    "\n",
    "        oov_index = 0\n",
    "        return [[self._get_or_set_word_to_index(word)\n",
    "                 if word in self.word_occurrences else oov_index\n",
    "                 for word in words]\n",
    "                for words in l_words]\n",
    "\n",
    "    def _get_ngrams(self, indexes):\n",
    "        for i, left_index in enumerate(indexes):\n",
    "            window = indexes[i + 1:i + self.right_window + 1]\n",
    "            for distance, right_index in enumerate(window):\n",
    "                yield left_index, right_index, distance + 1\n",
    "\n",
    "    def get_comatrix(self, data):\n",
    "        comatrix = Counter()\n",
    "        z = 0\n",
    "        for indexes in data:\n",
    "            l_ngrams = self._get_ngrams(indexes)\n",
    "            for left_index, right_index, distance in l_ngrams:\n",
    "                comatrix[(left_index, right_index)] += 1. / distance\n",
    "                z += 1\n",
    "        return zip(*[(left, right, x) for (left, right), x in comatrix.items()])"
   ]
  },
  {
   "cell_type": "code",
   "execution_count": 9,
   "metadata": {},
   "outputs": [
    {
     "name": "stderr",
     "output_type": "stream",
     "text": [
      "[nltk_data] Downloading package punkt to /root/nltk_data...\n",
      "[nltk_data]   Unzipping tokenizers/punkt.zip.\n"
     ]
    },
    {
     "data": {
      "text/plain": [
       "True"
      ]
     },
     "execution_count": 9,
     "metadata": {},
     "output_type": "execute_result"
    }
   ],
   "source": [
    "import nltk\n",
    "# nltk.download('gutenberg')\n",
    "nltk.download('punkt')"
   ]
  },
  {
   "cell_type": "code",
   "execution_count": 47,
   "metadata": {},
   "outputs": [
    {
     "name": "stdout",
     "output_type": "stream",
     "text": [
      "Time taken is 0.014100313186645508\n",
      "[0, 0, 17, 0]\n"
     ]
    }
   ],
   "source": [
    "import time\n",
    "from nltk.corpus import gutenberg\n",
    "\n",
    "indexer = WordIndexer(right_window=1, min_word_occurences=5)\n",
    "\n",
    "texts2 = gutenberg.sents('shakespeare-macbeth.txt')\n",
    "texts = [\"One day I went to lidl\", \"I went to shop lift in lidl\", \"now I dont go back to lidl\"]\n",
    "sentences = [\" \".join(list_of_words) for list_of_words in texts2]\n",
    "\n",
    "start_time = time.time()\n",
    "data = indexer.fit_transform(sentences)\n",
    "end_time = time.time()\n",
    "print(\"Time taken is {}\".format(end_time-start_time))\n",
    "print(data[1000])"
   ]
  },
  {
   "cell_type": "code",
   "execution_count": null,
   "metadata": {},
   "outputs": [],
   "source": []
  }
 ],
 "metadata": {
  "kernelspec": {
   "display_name": "Python 3",
   "language": "python",
   "name": "python3"
  },
  "language_info": {
   "codemirror_mode": {
    "name": "ipython",
    "version": 3
   },
   "file_extension": ".py",
   "mimetype": "text/x-python",
   "name": "python",
   "nbconvert_exporter": "python",
   "pygments_lexer": "ipython3",
   "version": "3.5.2"
  }
 },
 "nbformat": 4,
 "nbformat_minor": 2
}
